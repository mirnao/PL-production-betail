{
 "cells": [
  {
   "cell_type": "markdown",
   "metadata": {},
   "source": [
    "# Production d’aliments pour bétail"
   ]
  },
  {
   "cell_type": "code",
   "execution_count": 8,
   "metadata": {},
   "outputs": [],
   "source": [
    "import cplex "
   ]
  },
  {
   "cell_type": "code",
   "execution_count": 9,
   "metadata": {},
   "outputs": [
    {
     "data": {
      "text/plain": [
       "range(2, 3)"
      ]
     },
     "execution_count": 9,
     "metadata": {},
     "output_type": "execute_result"
    }
   ],
   "source": [
    "model=cplex.Cplex()\n",
    "# definitio des variables\n",
    "model.variables.add(names=[\"xM\"])    # quantite de mais dans un sac (kg)\n",
    "model.variables.add(names=[\"xF\"])    # quantite de froment dans un sac (kg)\n",
    "model.variables.add(names=[\"xA\"])    # quantite d'avoine dans un sac (kg)\n"
   ]
  },
  {
   "cell_type": "markdown",
   "metadata": {},
   "source": [
    "## Fonction objetif"
   ]
  },
  {
   "cell_type": "code",
   "execution_count": 10,
   "metadata": {},
   "outputs": [],
   "source": [
    "model.objective.set_sense(model.objective.sense.minimize)\n",
    "model.objective.set_linear(\"xM\",0.085)\n",
    "model.objective.set_linear(\"xF\",0.08)\n",
    "model.objective.set_linear(\"xA\",0.09)\n"
   ]
  },
  {
   "cell_type": "markdown",
   "metadata": {},
   "source": [
    "## Declaration des contraintes"
   ]
  },
  {
   "cell_type": "code",
   "execution_count": 11,
   "metadata": {},
   "outputs": [],
   "source": [
    "\n",
    "model.linear_constraints.add(names=[\"etape\"])\n",
    "\n",
    "model.linear_constraints.set_coefficients(\"etape\", \"xM\", 0.07)\n",
    "model.linear_constraints.set_coefficients(\"etape\", \"xF\", 0.09)\n",
    "model.linear_constraints.set_coefficients(\"etape\", \"xA\", 0.12)\n",
    "################\n",
    "model.linear_constraints.set_coefficients(\"etape\", \"xM\", 0.03)\n",
    "model.linear_constraints.set_coefficients(\"etape\", \"xF\", 0.27)\n",
    "model.linear_constraints.set_coefficients(\"etape\", \"xA\", 0.39)\n",
    "################\n",
    "model.linear_constraints.set_coefficients(\"etape\", \"xM\", 0.18)\n",
    "model.linear_constraints.set_coefficients(\"etape\", \"xF\", 0.07)\n",
    "model.linear_constraints.set_coefficients(\"etape\", \"xA\", 0.19)\n",
    "###### contraint egalite\n",
    "# xM + xF + xA =50\n",
    "model.linear_constraints.set_coefficients(\"etape\", \"xM\", 1)\n",
    "model.linear_constraints.set_coefficients(\"etape\", \"xF\", 1)\n",
    "model.linear_constraints.set_coefficients(\"etape\", \"xA\", 1)\n",
    "\n"
   ]
  },
  {
   "cell_type": "code",
   "execution_count": 12,
   "metadata": {},
   "outputs": [
    {
     "name": "stdout",
     "output_type": "stream",
     "text": [
      "CPXPARAM_Read_DataCheck                          1\n",
      "Tried aggregator 1 time.\n",
      "LP Presolve eliminated 1 rows and 3 columns.\n",
      "All rows and columns eliminated.\n",
      "Presolve time = 0.00 sec. (0.00 ticks)\n"
     ]
    }
   ],
   "source": [
    "### <=\n",
    "model.linear_constraints.set_rhs(\"etape\",10)\n",
    "model.linear_constraints.set_rhs(\"etape\",30)\n",
    "#### >=\n",
    "model.linear_constraints.set_rhs(\"etape\",15)\n",
    "#### =\n",
    "model.linear_constraints.set_rhs(\"etape\",50)\n",
    "\n",
    "\"\"\"\" L is <=，G is >=  E is == \"\"\"\"\"\n",
    "model.linear_constraints.set_senses(\"etape\",\"L\")\n",
    "model.linear_constraints.set_senses(\"etape\",\"L\")\n",
    "model.linear_constraints.set_senses(\"etape\",\"G\")\n",
    "model.linear_constraints.set_senses(\"etape\",\"E\")\n",
    "model.solve()"
   ]
  },
  {
   "cell_type": "code",
   "execution_count": 13,
   "metadata": {},
   "outputs": [
    {
     "name": "stdout",
     "output_type": "stream",
     "text": [
      "Profit:  4.0\n",
      "xM:  0.0\n",
      "xF:  50.0\n",
      "xA:  0.0\n"
     ]
    }
   ],
   "source": [
    "print (\"Profit: \", model.solution.get_objective_value())\n",
    "print (\"xM: \", model.solution.get_values(\"xM\"))\n",
    "print (\"xF: \", model.solution.get_values(\"xF\"))\n",
    "print (\"xA: \", model.solution.get_values(\"xA\"))"
   ]
  }
 ],
 "metadata": {
  "kernelspec": {
   "display_name": "Python 3",
   "language": "python",
   "name": "python3"
  },
  "language_info": {
   "codemirror_mode": {
    "name": "ipython",
    "version": 3
   },
   "file_extension": ".py",
   "mimetype": "text/x-python",
   "name": "python",
   "nbconvert_exporter": "python",
   "pygments_lexer": "ipython3",
   "version": "3.6.8"
  }
 },
 "nbformat": 4,
 "nbformat_minor": 4
}
